{
 "cells": [
  {
   "cell_type": "code",
   "execution_count": 2,
   "id": "6da0c038",
   "metadata": {},
   "outputs": [],
   "source": [
    "import numpy as np\n",
    "import pandas as pd\n",
    "\n",
    "import matplotlib.pyplot as plt\n",
    "import seaborn as sns\n",
    "\n",
    "from ipywidgets import interact"
   ]
  },
  {
   "cell_type": "code",
   "execution_count": 3,
   "id": "1faba752",
   "metadata": {},
   "outputs": [],
   "source": [
    "data = pd.read_csv('indiancrop_dataset.csv')"
   ]
  },
  {
   "cell_type": "code",
   "execution_count": 5,
   "id": "99c20087",
   "metadata": {},
   "outputs": [
    {
     "name": "stdout",
     "output_type": "stream",
     "text": [
      "shape of the dataframe : (2200, 8)\n"
     ]
    }
   ],
   "source": [
    "print(\"shape of the dataframe :\",data.shape)"
   ]
  },
  {
   "cell_type": "code",
   "execution_count": 6,
   "id": "13e420a3",
   "metadata": {},
   "outputs": [
    {
     "data": {
      "text/html": [
       "<div>\n",
       "<style scoped>\n",
       "    .dataframe tbody tr th:only-of-type {\n",
       "        vertical-align: middle;\n",
       "    }\n",
       "\n",
       "    .dataframe tbody tr th {\n",
       "        vertical-align: top;\n",
       "    }\n",
       "\n",
       "    .dataframe thead th {\n",
       "        text-align: right;\n",
       "    }\n",
       "</style>\n",
       "<table border=\"1\" class=\"dataframe\">\n",
       "  <thead>\n",
       "    <tr style=\"text-align: right;\">\n",
       "      <th></th>\n",
       "      <th>N_SOIL</th>\n",
       "      <th>P_SOIL</th>\n",
       "      <th>K_SOIL</th>\n",
       "      <th>TEMPERATURE</th>\n",
       "      <th>HUMIDITY</th>\n",
       "      <th>ph</th>\n",
       "      <th>RAINFALL</th>\n",
       "      <th>label</th>\n",
       "    </tr>\n",
       "  </thead>\n",
       "  <tbody>\n",
       "    <tr>\n",
       "      <th>0</th>\n",
       "      <td>90</td>\n",
       "      <td>42</td>\n",
       "      <td>43</td>\n",
       "      <td>20.879744</td>\n",
       "      <td>82.002744</td>\n",
       "      <td>6.502985</td>\n",
       "      <td>202.935536</td>\n",
       "      <td>Rice</td>\n",
       "    </tr>\n",
       "    <tr>\n",
       "      <th>1</th>\n",
       "      <td>85</td>\n",
       "      <td>58</td>\n",
       "      <td>41</td>\n",
       "      <td>21.770462</td>\n",
       "      <td>80.319644</td>\n",
       "      <td>7.038096</td>\n",
       "      <td>226.655537</td>\n",
       "      <td>Rice</td>\n",
       "    </tr>\n",
       "    <tr>\n",
       "      <th>2</th>\n",
       "      <td>60</td>\n",
       "      <td>55</td>\n",
       "      <td>44</td>\n",
       "      <td>23.004459</td>\n",
       "      <td>82.320763</td>\n",
       "      <td>7.840207</td>\n",
       "      <td>263.964248</td>\n",
       "      <td>Rice</td>\n",
       "    </tr>\n",
       "    <tr>\n",
       "      <th>3</th>\n",
       "      <td>74</td>\n",
       "      <td>35</td>\n",
       "      <td>40</td>\n",
       "      <td>26.491096</td>\n",
       "      <td>80.158363</td>\n",
       "      <td>6.980401</td>\n",
       "      <td>242.864034</td>\n",
       "      <td>Rice</td>\n",
       "    </tr>\n",
       "    <tr>\n",
       "      <th>4</th>\n",
       "      <td>78</td>\n",
       "      <td>42</td>\n",
       "      <td>42</td>\n",
       "      <td>20.130175</td>\n",
       "      <td>81.604873</td>\n",
       "      <td>7.628473</td>\n",
       "      <td>262.717340</td>\n",
       "      <td>Rice</td>\n",
       "    </tr>\n",
       "  </tbody>\n",
       "</table>\n",
       "</div>"
      ],
      "text/plain": [
       "   N_SOIL  P_SOIL  K_SOIL  TEMPERATURE   HUMIDITY        ph    RAINFALL label\n",
       "0      90      42      43    20.879744  82.002744  6.502985  202.935536  Rice\n",
       "1      85      58      41    21.770462  80.319644  7.038096  226.655537  Rice\n",
       "2      60      55      44    23.004459  82.320763  7.840207  263.964248  Rice\n",
       "3      74      35      40    26.491096  80.158363  6.980401  242.864034  Rice\n",
       "4      78      42      42    20.130175  81.604873  7.628473  262.717340  Rice"
      ]
     },
     "execution_count": 6,
     "metadata": {},
     "output_type": "execute_result"
    }
   ],
   "source": [
    "data.head()"
   ]
  },
  {
   "cell_type": "code",
   "execution_count": 7,
   "id": "001898cc",
   "metadata": {},
   "outputs": [
    {
     "data": {
      "text/plain": [
       "N_SOIL         0\n",
       "P_SOIL         0\n",
       "K_SOIL         0\n",
       "TEMPERATURE    0\n",
       "HUMIDITY       0\n",
       "ph             0\n",
       "RAINFALL       0\n",
       "label          0\n",
       "dtype: int64"
      ]
     },
     "execution_count": 7,
     "metadata": {},
     "output_type": "execute_result"
    }
   ],
   "source": [
    "data.isnull().sum()"
   ]
  },
  {
   "cell_type": "code",
   "execution_count": 8,
   "id": "e0959ae9",
   "metadata": {},
   "outputs": [
    {
     "data": {
      "text/plain": [
       "Rice           100\n",
       "Maize          100\n",
       "Jute           100\n",
       "Cotton         100\n",
       "Coconut        100\n",
       "Papaya         100\n",
       "Orange         100\n",
       "Apple          100\n",
       "Muskmelon      100\n",
       "Watermelon     100\n",
       "Grapes         100\n",
       "Mango          100\n",
       "Banana         100\n",
       "Pomegranate    100\n",
       "Lentil         100\n",
       "Blackgram      100\n",
       "MungBean       100\n",
       "MothBeans      100\n",
       "PigeonPeas     100\n",
       "KidneyBeans    100\n",
       "ChickPea       100\n",
       "Coffee         100\n",
       "Name: label, dtype: int64"
      ]
     },
     "execution_count": 8,
     "metadata": {},
     "output_type": "execute_result"
    }
   ],
   "source": [
    "data['label'].value_counts()"
   ]
  },
  {
   "cell_type": "code",
   "execution_count": 12,
   "id": "0380bc83",
   "metadata": {},
   "outputs": [
    {
     "name": "stdout",
     "output_type": "stream",
     "text": [
      "Average ratio of nitrogen :50.55\n",
      "Average ratio of phosphorus :53.36\n",
      "Average ratio of pottasium :48.15\n",
      "Average ratio of temperature :25.62\n",
      "Average ratio of humidity :71.48\n",
      "Average ratio of ph :6.47\n",
      "Average ratio of rainfall :103.46\n"
     ]
    }
   ],
   "source": [
    "# summary of all crops in the dataset\n",
    "\n",
    "print(\"Average ratio of nitrogen :{0:.2f}\".format(data['N_SOIL'].mean()))\n",
    "print(\"Average ratio of phosphorus :{0:.2f}\".format(data['P_SOIL'].mean()))\n",
    "print(\"Average ratio of pottasium :{0:.2f}\".format(data['K_SOIL'].mean()))\n",
    "print(\"Average ratio of temperature :{0:.2f}\".format(data['TEMPERATURE'].mean()))\n",
    "print(\"Average ratio of humidity :{0:.2f}\".format(data['HUMIDITY'].mean()))\n",
    "print(\"Average ratio of ph :{0:.2f}\".format(data['ph'].mean()))\n",
    "print(\"Average ratio of rainfall :{0:.2f}\".format(data['RAINFALL'].mean()))"
   ]
  },
  {
   "cell_type": "code",
   "execution_count": 16,
   "id": "b3c39059",
   "metadata": {},
   "outputs": [
    {
     "data": {
      "application/vnd.jupyter.widget-view+json": {
       "model_id": "4b06b1c74cfc4ddba5e6ce5dc9392411",
       "version_major": 2,
       "version_minor": 0
      },
      "text/plain": [
       "interactive(children=(Dropdown(description='crops', options=('Rice', 'Maize', 'Jute', 'Cotton', 'Coconut', 'Pa…"
      ]
     },
     "metadata": {},
     "output_type": "display_data"
    }
   ],
   "source": [
    "#SUMMARY OF DISTRIBUTION OF EACH ATTRIBUTE IN DIFFERENT CROPS\n",
    " \n",
    "@interact\n",
    "\n",
    "def summary(crops=list(data['label'].value_counts().index)):\n",
    "    x=data[data['label']==crops]\n",
    "    print(\"--------------------------------\")\n",
    "    print(\"statistics for nitrogen\")\n",
    "    print(\"Minimum requirement of nitrogen :\",x['N_SOIL'].min())\n",
    "    print(\"Average requirement of nitrogen :\",x['N_SOIL'].mean())\n",
    "    print(\"Maximum requirement of nitrogen :\",x['N_SOIL'].max())\n",
    "    \n",
    "    print(\"--------------------------------\")\n",
    "    print(\"statistics for phosphorus\")\n",
    "    print(\"Minimum requirement of  phosphorus:\",x['P_SOIL'].min())\n",
    "    print(\"Average requirement of phosphorus :\",x['P_SOIL'].mean())\n",
    "    print(\"Maximum requirement of phosphorus:\",x['P_SOIL'].max())\n",
    "    \n",
    "    print(\"--------------------------------\")\n",
    "    print(\"statistics for pottasium\")\n",
    "    print(\"Minimum requirement of pottasium :\",x['K_SOIL'].min())\n",
    "    print(\"Average requirement of pottasium :\",x['K_SOIL'].mean())\n",
    "    print(\"Maximum requirement of pottasium :\",x['K_SOIL'].max())\n",
    "    \n",
    "    print(\"--------------------------------\")\n",
    "    print(\"statistics for temperature\")\n",
    "    print(\"Minimum requirement of temperature :\",x['TEMPERATURE'].min())\n",
    "    print(\"Average requirement of temperature :\",x['TEMPERATURE'].mean())\n",
    "    print(\"Maximum requirement of temperature:\",x['TEMPERATURE'].max())\n",
    "    \n",
    "    print(\"--------------------------------\")\n",
    "    print(\"statistics for humidity\")\n",
    "    print(\"Minimum requirement of humidity :\",x['HUMIDITY'].min())\n",
    "    print(\"Average requirement of humidity :\",x['HUMIDITY'].mean())\n",
    "    print(\"Maximum requirement of humidity :\",x['HUMIDITY'].max())\n",
    "    \n",
    "    print(\"--------------------------------\")\n",
    "    print(\"statistics for ph\")\n",
    "    print(\"Minimum requirement of ph :\",x['ph'].min())\n",
    "    print(\"Average requirement of ph:\",x['ph'].mean())\n",
    "    print(\"Maximum requirement of ph :\",x['ph'].max())\n",
    "    \n",
    "    print(\"--------------------------------\")\n",
    "    print(\"statistics for rainfall\")\n",
    "    print(\"Minimum requirement of rainfall :\",x['RAINFALL'].min())\n",
    "    print(\"Average requirement of rainfall :\",x['RAINFALL'].mean())\n",
    "    print(\"Maximum requirement of rainfall :\",x['RAINFALL'].max())\n",
    "    "
   ]
  },
  {
   "cell_type": "code",
   "execution_count": 26,
   "id": "4ad94c65",
   "metadata": {},
   "outputs": [
    {
     "data": {
      "application/vnd.jupyter.widget-view+json": {
       "model_id": "7f1decc594254e40b09921a111705206",
       "version_major": 2,
       "version_minor": 0
      },
      "text/plain": [
       "interactive(children=(Dropdown(description='conditions', options=('N_SOIL', 'P_SOIL', 'K_SOIL', 'TEMPERATURE',…"
      ]
     },
     "metadata": {},
     "output_type": "display_data"
    }
   ],
   "source": [
    "#compute average requirement for each crop\n",
    "\n",
    "@interact\n",
    "def compare(conditions=['N_SOIL','P_SOIL','K_SOIL','TEMPERATURE','HUMIDITY','ph','RAINFALL']):\n",
    "    print(\"Average value for \",conditions,\"is {0:.2f}\".format(data[conditions].mean()))\n",
    "    print(\"-------------------------------\")\n",
    "    print(\"Rice : {0:.2f}\".format(data[(data['label']=='Rice')][conditions].mean()))\n",
    "    print(\"Maize: {0:.2f}\".format(data[(data['label']=='Maize')][conditions].mean()))\n",
    "    print(\"Jute : {0:.2f}\".format(data[(data['label']=='Jute')][conditions].mean()))\n",
    "    print(\"Cotton : {0:.2f}\".format(data[(data['label']=='Cotton')][conditions].mean()))\n",
    "    print(\"Coconut : {0:.2f}\".format(data[(data['label']=='Coconut')][conditions].mean()))\n",
    "    print(\"Papaya : {0:.2f}\".format(data[(data['label']=='Papaya')][conditions].mean()))\n",
    "    print(\"Orange : {0:.2f}\".format(data[(data['label']=='Orange')][conditions].mean()))\n",
    "    print(\"Apple : {0:.2f}\".format(data[(data['label']=='Apple')][conditions].mean()))\n",
    "    print(\"Muskmelon : {0:.2f}\".format(data[(data['label']=='Muskmelon')][conditions].mean()))\n",
    "    print(\"Watermelon: {0:.2f}\".format(data[(data['label']=='Watermelon')][conditions].mean()))\n",
    "    print(\"Grapes : {0:.2f}\".format(data[(data['label']=='Grapes')][conditions].mean()))\n",
    "    print(\"Mango : {0:.2f}\".format(data[(data['label']=='Mango')][conditions].mean()))\n",
    "    print(\"Banana : {0:.2f}\".format(data[(data['label']=='Banana')][conditions].mean()))\n",
    "    print(\"Pomegranate : {0:.2f}\".format(data[(data['label']=='Pomegranate')][conditions].mean()))\n",
    "    print(\"Lentil: {0:.2f}\".format(data[(data['label']=='Lentil')][conditions].mean()))\n",
    "    print(\"Blackgram : {0:.2f}\".format(data[(data['label']=='Blackgram')][conditions].mean()))\n",
    "    print(\"MungBean : {0:.2f}\".format(data[(data['label']=='MungBean')][conditions].mean()))\n",
    "    print(\"MothBeans: {0:.2f}\".format(data[(data['label']=='MothBeans')][conditions].mean()))\n",
    "    print(\"PigeonPeas : {0:.2f}\".format(data[(data['label']=='PigeonPeas')][conditions].mean()))\n",
    "    print(\"KidneyBeans : {0:.2f}\".format(data[(data['label']=='KidneyBeans')][conditions].mean()))"
   ]
  },
  {
   "cell_type": "code",
   "execution_count": 29,
   "id": "718be78c",
   "metadata": {},
   "outputs": [
    {
     "data": {
      "application/vnd.jupyter.widget-view+json": {
       "model_id": "92f5e8399e954a64b825deef7c1cc5d0",
       "version_major": 2,
       "version_minor": 0
      },
      "text/plain": [
       "interactive(children=(Dropdown(description='conditions', options=('N_SOIL', 'P_SOIL', 'K_SOIL', 'TEMPERATURE',…"
      ]
     },
     "metadata": {},
     "output_type": "display_data"
    }
   ],
   "source": [
    "# SUMMARY OF CROPS WHOSE REQUIREMENT IS LESS THAN AVERAGE  AND CROPS WHOSE REQUIREMENT IS MORE THAN AVERAGE\n",
    "\n",
    "@interact\n",
    "def comapre(conditions=['N_SOIL','P_SOIL','K_SOIL','TEMPERATURE','HUMIDITY','ph','RAINFALL']):\n",
    "    print(\"crops which require more than average \",conditions,\"\\n\")\n",
    "    print( data[data[conditions] > data[conditions].mean()] ['label'].unique())\n",
    "    print(\"--------------------------------\")\n",
    "    print(\"crops which require less than average \",conditions,\"\\n\")\n",
    "    print( data[data[conditions] < data[conditions].mean()] ['label'].unique())"
   ]
  },
  {
   "cell_type": "code",
   "execution_count": 40,
   "id": "b3391598",
   "metadata": {},
   "outputs": [
    {
     "name": "stderr",
     "output_type": "stream",
     "text": [
      "C:\\Users\\HP\\anaconda3\\lib\\site-packages\\seaborn\\distributions.py:2619: FutureWarning: `distplot` is a deprecated function and will be removed in a future version. Please adapt your code to use either `displot` (a figure-level function with similar flexibility) or `histplot` (an axes-level function for histograms).\n",
      "  warnings.warn(msg, FutureWarning)\n",
      "C:\\Users\\HP\\anaconda3\\lib\\site-packages\\seaborn\\distributions.py:2619: FutureWarning: `distplot` is a deprecated function and will be removed in a future version. Please adapt your code to use either `displot` (a figure-level function with similar flexibility) or `histplot` (an axes-level function for histograms).\n",
      "  warnings.warn(msg, FutureWarning)\n",
      "C:\\Users\\HP\\anaconda3\\lib\\site-packages\\seaborn\\distributions.py:2619: FutureWarning: `distplot` is a deprecated function and will be removed in a future version. Please adapt your code to use either `displot` (a figure-level function with similar flexibility) or `histplot` (an axes-level function for histograms).\n",
      "  warnings.warn(msg, FutureWarning)\n",
      "C:\\Users\\HP\\anaconda3\\lib\\site-packages\\seaborn\\distributions.py:2619: FutureWarning: `distplot` is a deprecated function and will be removed in a future version. Please adapt your code to use either `displot` (a figure-level function with similar flexibility) or `histplot` (an axes-level function for histograms).\n",
      "  warnings.warn(msg, FutureWarning)\n",
      "C:\\Users\\HP\\anaconda3\\lib\\site-packages\\seaborn\\distributions.py:2619: FutureWarning: `distplot` is a deprecated function and will be removed in a future version. Please adapt your code to use either `displot` (a figure-level function with similar flexibility) or `histplot` (an axes-level function for histograms).\n",
      "  warnings.warn(msg, FutureWarning)\n",
      "C:\\Users\\HP\\anaconda3\\lib\\site-packages\\seaborn\\distributions.py:2619: FutureWarning: `distplot` is a deprecated function and will be removed in a future version. Please adapt your code to use either `displot` (a figure-level function with similar flexibility) or `histplot` (an axes-level function for histograms).\n",
      "  warnings.warn(msg, FutureWarning)\n",
      "C:\\Users\\HP\\anaconda3\\lib\\site-packages\\seaborn\\distributions.py:2619: FutureWarning: `distplot` is a deprecated function and will be removed in a future version. Please adapt your code to use either `displot` (a figure-level function with similar flexibility) or `histplot` (an axes-level function for histograms).\n",
      "  warnings.warn(msg, FutureWarning)\n"
     ]
    },
    {
     "data": {
      "image/png": "[encoded data removed]",
      "text/plain": [
       "<Figure size 432x288 with 7 Axes>"
      ]
     },
     "metadata": {
      "needs_background": "light"
     },
     "output_type": "display_data"
    }
   ],
   "source": [
    "\n",
    "\n",
    "\n",
    "\n",
    "plt.subplot(2,4,1)\n",
    "sns.distplot(data['N_SOIL'],color=\"black\")\n",
    "plt.xlabel(\"Ratio of nitrogen\",fontsize=12)\n",
    "plt.grid()\n",
    "\n",
    "\n",
    "\n",
    "plt.subplot(2,4,2)\n",
    "sns.distplot(data['P_SOIL'],color=\"red\")\n",
    "plt.xlabel(\"Ratio of pottasium\",fontsize=12)\n",
    "plt.grid()\n",
    "\n",
    "\n",
    "\n",
    "plt.subplot(2,4,3)\n",
    "sns.distplot(data['K_SOIL'],color=\"darkblue\")\n",
    "plt.xlabel(\"Ratio of phosphorus\",fontsize=12)\n",
    "plt.grid()\n",
    "\n",
    "\n",
    "\n",
    "plt.subplot(2,4,4)\n",
    "sns.distplot(data['TEMPERATURE'],color=\"yellow\")\n",
    "plt.xlabel(\"Ratio of temperature\",fontsize=12)\n",
    "plt.grid()\n",
    "\n",
    "\n",
    "\n",
    "plt.subplot(2,4,5)\n",
    "sns.distplot(data['HUMIDITY'],color=\"grey\")\n",
    "plt.xlabel(\"Ratio of humidity\",fontsize=12)\n",
    "plt.grid()\n",
    "\n",
    "\n",
    "\n",
    "plt.subplot(2,4,6)\n",
    "sns.distplot(data['ph'],color=\"cyan\")\n",
    "plt.xlabel(\"Ratio of ph\",fontsize=12)\n",
    "plt.grid()\n",
    "\n",
    "\n",
    "\n",
    "plt.subplot(2,4,7)\n",
    "sns.distplot(data['RAINFALL'],color=\"blue\")\n",
    "plt.xlabel(\"Ratio of rainfall\",fontsize=12)\n",
    "plt.grid()"
   ]
  },
  {
   "cell_type": "code",
   "execution_count": 42,
   "id": "33374b4c",
   "metadata": {},
   "outputs": [
    {
     "name": "stdout",
     "output_type": "stream",
     "text": [
      "Some interesting patterns  \n",
      "----------------------------\n",
      "Crops which require  very high proportions of nitrogen : ['Cotton']\n",
      "Crops which require  very high proportions of pottasium : ['Grapes' 'Apple']\n",
      "Crops which require  very high proportions of phosphorus : ['Grapes' 'Apple']\n",
      "Crops which require  very high proportions of temperature : ['Grapes' 'Papaya']\n",
      "Crops which require  very low portions of temperature : ['Grapes']\n",
      "Crops which require  very high proportions of rainfall : ['Rice' 'Papaya' 'Coconut']\n",
      "Crops which require  very low proportions of ph:, ['MothBeans']\n",
      "Crops which require  very high proportions of ph : ['MothBeans']\n",
      "Crops which require  very low proportions of humidity : ['ChickPea' 'KidneyBeans']\n"
     ]
    }
   ],
   "source": [
    "# lets find out some interesting facts\n",
    "print(\"Some interesting patterns  \")\n",
    "print(\"----------------------------\")\n",
    "print(\"Crops which require  very high proportions of nitrogen :\",data[data['N_SOIL'] >120]['label'].unique())\n",
    "print(\"Crops which require  very high proportions of pottasium :\",data[data['P_SOIL'] >100]['label'].unique())\n",
    "print(\"Crops which require  very high proportions of phosphorus :\",data[data['K_SOIL'] >200]['label'].unique())\n",
    "print(\"Crops which require  very high proportions of temperature :\",data[data['TEMPERATURE'] > 40]['label'].unique())\n",
    "print(\"Crops which require  very low portions of temperature :\",data[data['TEMPERATURE'] < 10]['label'].unique())\n",
    "print(\"Crops which require  very high proportions of rainfall :\",data[data['RAINFALL'] >200]['label'].unique())\n",
    "print(\"Crops which require  very low proportions of ph:,\",data[data['ph'] < 4]['label'].unique())\n",
    "print(\"Crops which require  very high proportions of ph :\",data[data['ph'] > 9]['label'].unique())\n",
    "print(\"Crops which require  very low proportions of humidity :\",data[data['HUMIDITY'] < 20]['label'].unique())\n"
   ]
  },
  {
   "cell_type": "code",
   "execution_count": 43,
   "id": "728f30b6",
   "metadata": {},
   "outputs": [
    {
     "name": "stdout",
     "output_type": "stream",
     "text": [
      "Summer crops : \n",
      "['PigeonPeas' 'MothBeans' 'Blackgram' 'Mango' 'Grapes' 'Orange' 'Papaya']\n",
      "-------------------\n",
      "Winter crops : \n",
      "['Maize' 'PigeonPeas' 'Lentil' 'Pomegranate' 'Grapes' 'Orange']\n",
      "--------------------\n",
      "Rainy crops : \n",
      "['Rice' 'Papaya' 'Coconut']\n"
     ]
    }
   ],
   "source": [
    "# different seasons of crops\n",
    "\n",
    "print(\"Summer crops : \")\n",
    "print( data[(data['TEMPERATURE'] >30) &(data['HUMIDITY'] > 50 )]['label'].unique())\n",
    "print(\"-------------------\")\n",
    "\n",
    "print(\"Winter crops : \")\n",
    "print(data[(data['TEMPERATURE'] < 20) & (data['HUMIDITY'] > 30)]['label'].unique())\n",
    "\n",
    "print(\"--------------------\")\n",
    "print(\"Rainy crops : \")\n",
    "print(data[(data['RAINFALL'] >200) & (data['HUMIDITY'] >30)]['label'].unique())"
   ]
  },
  {
   "cell_type": "code",
   "execution_count": 46,
   "id": "c6d04584",
   "metadata": {},
   "outputs": [
    {
     "name": "stdout",
     "output_type": "stream",
     "text": [
      "(2200, 7)\n"
     ]
    }
   ],
   "source": [
    "from sklearn.cluster import KMeans\n",
    "\n",
    "#removing labels columns\n",
    "x=data.drop(['label'],axis=1)\n",
    "\n",
    "#selecting all the values of the data\n",
    "x=x.values\n",
    "\n",
    "print(x.shape)"
   ]
  },
  {
   "cell_type": "code",
   "execution_count": 48,
   "id": "d23628d4",
   "metadata": {},
   "outputs": [
    {
     "data": {
      "image/png": "[encoded data removed]",
      "text/plain": [
       "<Figure size 720x288 with 1 Axes>"
      ]
     },
     "metadata": {
      "needs_background": "light"
     },
     "output_type": "display_data"
    }
   ],
   "source": [
    "# find out the optimun number of cluster required for this dataset\n",
    "\n",
    "plt.rcParams['figure.figsize']=(10,4)\n",
    "\n",
    "wcss = []\n",
    "for i in range(1,11):\n",
    "    km=KMeans(n_clusters = i,init='k-means++',max_iter =300 , n_init =10,random_state=0)\n",
    "    km.fit(x)\n",
    "    wcss.append(km.inertia_)\n",
    "\n",
    "#lets plot the result\n",
    "plt.plot(range(1,11),wcss)\n",
    "plt.title(\"the Elbow Method\",fontsize=20)\n",
    "plt.xlabel(\"No. of cluster\")\n",
    "plt.ylabel(\"wcss\")\n",
    "plt.show()\n",
    "    "
   ]
  },
  {
   "cell_type": "code",
   "execution_count": 50,
   "id": "5e49dc28",
   "metadata": {},
   "outputs": [
    {
     "name": "stdout",
     "output_type": "stream",
     "text": [
      "crops in first cluster :  ['Maize' 'ChickPea' 'KidneyBeans' 'PigeonPeas' 'MothBeans' 'MungBean'\n",
      " 'Blackgram' 'Lentil' 'Pomegranate' 'Mango' 'Orange' 'Papaya' 'Coconut']\n",
      "------------------------------------\n",
      "crops in second cluster :  ['Maize' 'Banana' 'Watermelon' 'Muskmelon' 'Papaya' 'Cotton' 'Coffee']\n",
      "------------------------------------\n",
      "crops in third cluster :  ['Grapes' 'Apple']\n",
      "------------------------------------\n",
      "crops in fourth cluster :  ['Rice' 'PigeonPeas' 'Papaya' 'Coconut' 'Jute' 'Coffee']\n"
     ]
    }
   ],
   "source": [
    "#lets implement kmeans using k=4\n",
    "km=KMeans(n_clusters=4, init = \"k-means++\", max_iter=300 , n_init=10, random_state=0)\n",
    "y_means=km.fit_predict(x)\n",
    "\n",
    "#result\n",
    "a = data['label']\n",
    "y_means = pd.DataFrame(y_means)\n",
    "z = pd.concat([y_means, a],axis=1)\n",
    "z=z.rename(columns={0:'cluster'})\n",
    "\n",
    "#cluster of each crops\n",
    "print(\"crops in first cluster : \", z[z['cluster']==0]['label'].unique())\n",
    "print(\"------------------------------------\")\n",
    "print(\"crops in second cluster : \", z[z['cluster']==1]['label'].unique())\n",
    "print(\"------------------------------------\")\n",
    "print(\"crops in third cluster : \", z[z['cluster']==2]['label'].unique())\n",
    "print(\"------------------------------------\")\n",
    "print(\"crops in fourth cluster : \", z[z['cluster']==3]['label'].unique())"
   ]
  },
  {
   "cell_type": "code",
   "execution_count": 51,
   "id": "71430e6a",
   "metadata": {},
   "outputs": [
    {
     "name": "stdout",
     "output_type": "stream",
     "text": [
      "shape of x : (2200, 7)\n",
      "shape of y : (2200,)\n"
     ]
    }
   ],
   "source": [
    "y=data['label']\n",
    "x=data.drop(['label'],axis=1)\n",
    "\n",
    "print(\"shape of x :\",x.shape)\n",
    "print(\"shape of y :\",y.shape)"
   ]
  },
  {
   "cell_type": "code",
   "execution_count": 53,
   "id": "bf85ad95",
   "metadata": {},
   "outputs": [
    {
     "name": "stdout",
     "output_type": "stream",
     "text": [
      "shape of x_train :  (1760, 7)\n",
      "shape of x_test :  (440, 7)\n",
      "shape of y_train :  (1760,)\n",
      "shape of y_test :  (440,)\n"
     ]
    }
   ],
   "source": [
    "from sklearn.model_selection import train_test_split\n",
    "\n",
    "x_train,x_test,y_train,y_test = train_test_split(x,y,test_size=0.2,random_state=0)\n",
    "\n",
    "print(\"shape of x_train : \", x_train.shape)\n",
    "print(\"shape of x_test : \",  x_test.shape)\n",
    "print(\"shape of y_train : \", y_train.shape)\n",
    "print(\"shape of y_test : \", y_test.shape)\n"
   ]
  },
  {
   "cell_type": "code",
   "execution_count": 70,
   "id": "2b2809a7",
   "metadata": {},
   "outputs": [
    {
     "name": "stderr",
     "output_type": "stream",
     "text": [
      "C:\\Users\\HP\\anaconda3\\lib\\site-packages\\sklearn\\linear_model\\_logistic.py:814: ConvergenceWarning: lbfgs failed to converge (status=1):\n",
      "STOP: TOTAL NO. of ITERATIONS REACHED LIMIT.\n",
      "\n",
      "Increase the number of iterations (max_iter) or scale the data as shown in:\n",
      "    https://scikit-learn.org/stable/modules/preprocessing.html\n",
      "Please also refer to the documentation for alternative solver options:\n",
      "    https://scikit-learn.org/stable/modules/linear_model.html#logistic-regression\n",
      "  n_iter_i = _check_optimize_result(\n"
     ]
    }
   ],
   "source": [
    "from sklearn.linear_model import LogisticRegression\n",
    "\n",
    "\n",
    "model=LogisticRegression()\n",
    "\n",
    "model.fit(x_train,y_train)\n",
    "y_pred=model.predict(x_test)"
   ]
  },
  {
   "cell_type": "code",
   "execution_count": 55,
   "id": "bbe80a7e",
   "metadata": {},
   "outputs": [
    {
     "data": {
      "image/png": "[encoded data removed]",
      "text/plain": [
       "<Figure size 720x720 with 2 Axes>"
      ]
     },
     "metadata": {
      "needs_background": "light"
     },
     "output_type": "display_data"
    }
   ],
   "source": [
    "#lets  evaluate the model performance\n",
    "from sklearn.metrics import confusion_matrix\n",
    "\n",
    "plt.rcParams['figure.figsize']=(10,10)\n",
    "cm =confusion_matrix(y_test,y_pred)\n",
    "sns.heatmap(cm,annot=True,cmap='Wistia')\n",
    "plt.title('confusion matrix for logistic Regression',fontsize=15)\n",
    "plt.show()"
   ]
  },
  {
   "cell_type": "code",
   "execution_count": 71,
   "id": "fd53fd98",
   "metadata": {},
   "outputs": [
    {
     "name": "stdout",
     "output_type": "stream",
     "text": [
      "              precision    recall  f1-score   support\n",
      "\n",
      "       Apple       1.00      1.00      1.00        18\n",
      "      Banana       1.00      1.00      1.00        18\n",
      "   Blackgram       0.86      0.82      0.84        22\n",
      "    ChickPea       1.00      1.00      1.00        23\n",
      "     Coconut       1.00      1.00      1.00        15\n",
      "      Coffee       1.00      1.00      1.00        17\n",
      "      Cotton       0.89      1.00      0.94        16\n",
      "      Grapes       1.00      1.00      1.00        18\n",
      "        Jute       0.84      1.00      0.91        21\n",
      " KidneyBeans       1.00      1.00      1.00        20\n",
      "      Lentil       0.94      0.94      0.94        17\n",
      "       Maize       0.94      0.89      0.91        18\n",
      "       Mango       1.00      1.00      1.00        21\n",
      "   MothBeans       0.88      0.92      0.90        25\n",
      "    MungBean       1.00      1.00      1.00        17\n",
      "   Muskmelon       1.00      1.00      1.00        23\n",
      "      Orange       1.00      1.00      1.00        23\n",
      "      Papaya       1.00      0.95      0.98        21\n",
      "  PigeonPeas       1.00      1.00      1.00        22\n",
      " Pomegranate       1.00      1.00      1.00        23\n",
      "        Rice       1.00      0.84      0.91        25\n",
      "  Watermelon       1.00      1.00      1.00        17\n",
      "\n",
      "    accuracy                           0.97       440\n",
      "   macro avg       0.97      0.97      0.97       440\n",
      "weighted avg       0.97      0.97      0.97       440\n",
      "\n"
     ]
    }
   ],
   "source": [
    " from sklearn.metrics import classification_report\n",
    "cr=classification_report(y_test,y_pred)\n",
    "print(cr)"
   ]
  },
  {
   "cell_type": "code",
   "execution_count": 72,
   "id": "1dec80a6",
   "metadata": {},
   "outputs": [
    {
     "data": {
      "text/html": [
       "<div>\n",
       "<style scoped>\n",
       "    .dataframe tbody tr th:only-of-type {\n",
       "        vertical-align: middle;\n",
       "    }\n",
       "\n",
       "    .dataframe tbody tr th {\n",
       "        vertical-align: top;\n",
       "    }\n",
       "\n",
       "    .dataframe thead th {\n",
       "        text-align: right;\n",
       "    }\n",
       "</style>\n",
       "<table border=\"1\" class=\"dataframe\">\n",
       "  <thead>\n",
       "    <tr style=\"text-align: right;\">\n",
       "      <th></th>\n",
       "      <th>N_SOIL</th>\n",
       "      <th>P_SOIL</th>\n",
       "      <th>K_SOIL</th>\n",
       "      <th>TEMPERATURE</th>\n",
       "      <th>HUMIDITY</th>\n",
       "      <th>ph</th>\n",
       "      <th>RAINFALL</th>\n",
       "      <th>label</th>\n",
       "    </tr>\n",
       "  </thead>\n",
       "  <tbody>\n",
       "    <tr>\n",
       "      <th>0</th>\n",
       "      <td>90</td>\n",
       "      <td>42</td>\n",
       "      <td>43</td>\n",
       "      <td>20.879744</td>\n",
       "      <td>82.002744</td>\n",
       "      <td>6.502985</td>\n",
       "      <td>202.935536</td>\n",
       "      <td>Rice</td>\n",
       "    </tr>\n",
       "    <tr>\n",
       "      <th>1</th>\n",
       "      <td>85</td>\n",
       "      <td>58</td>\n",
       "      <td>41</td>\n",
       "      <td>21.770462</td>\n",
       "      <td>80.319644</td>\n",
       "      <td>7.038096</td>\n",
       "      <td>226.655537</td>\n",
       "      <td>Rice</td>\n",
       "    </tr>\n",
       "    <tr>\n",
       "      <th>2</th>\n",
       "      <td>60</td>\n",
       "      <td>55</td>\n",
       "      <td>44</td>\n",
       "      <td>23.004459</td>\n",
       "      <td>82.320763</td>\n",
       "      <td>7.840207</td>\n",
       "      <td>263.964248</td>\n",
       "      <td>Rice</td>\n",
       "    </tr>\n",
       "    <tr>\n",
       "      <th>3</th>\n",
       "      <td>74</td>\n",
       "      <td>35</td>\n",
       "      <td>40</td>\n",
       "      <td>26.491096</td>\n",
       "      <td>80.158363</td>\n",
       "      <td>6.980401</td>\n",
       "      <td>242.864034</td>\n",
       "      <td>Rice</td>\n",
       "    </tr>\n",
       "    <tr>\n",
       "      <th>4</th>\n",
       "      <td>78</td>\n",
       "      <td>42</td>\n",
       "      <td>42</td>\n",
       "      <td>20.130175</td>\n",
       "      <td>81.604873</td>\n",
       "      <td>7.628473</td>\n",
       "      <td>262.717340</td>\n",
       "      <td>Rice</td>\n",
       "    </tr>\n",
       "  </tbody>\n",
       "</table>\n",
       "</div>"
      ],
      "text/plain": [
       "   N_SOIL  P_SOIL  K_SOIL  TEMPERATURE   HUMIDITY        ph    RAINFALL label\n",
       "0      90      42      43    20.879744  82.002744  6.502985  202.935536  Rice\n",
       "1      85      58      41    21.770462  80.319644  7.038096  226.655537  Rice\n",
       "2      60      55      44    23.004459  82.320763  7.840207  263.964248  Rice\n",
       "3      74      35      40    26.491096  80.158363  6.980401  242.864034  Rice\n",
       "4      78      42      42    20.130175  81.604873  7.628473  262.717340  Rice"
      ]
     },
     "execution_count": 72,
     "metadata": {},
     "output_type": "execute_result"
    }
   ],
   "source": [
    "data.head(5)"
   ]
  },
  {
   "cell_type": "code",
   "execution_count": 73,
   "id": "d17e078d",
   "metadata": {},
   "outputs": [
    {
     "name": "stdout",
     "output_type": "stream",
     "text": [
      "the crop is :  ['Rice']\n"
     ]
    },
    {
     "name": "stderr",
     "output_type": "stream",
     "text": [
      "C:\\Users\\HP\\anaconda3\\lib\\site-packages\\sklearn\\base.py:450: UserWarning: X does not have valid feature names, but LogisticRegression was fitted with feature names\n",
      "  warnings.warn(\n"
     ]
    }
   ],
   "source": [
    "predictions = model.predict((np.array([[90,\n",
    "                                       40,\n",
    "                                       40,\n",
    "                                       20,\n",
    "                                       80,\n",
    "                                       7,\n",
    "                                       200]])))\n",
    "print(\"the crop is : \",predictions)"
   ]
  },
  {
   "cell_type": "code",
   "execution_count": null,
   "id": "57282be8",
   "metadata": {},
   "outputs": [],
   "source": []
  }
 ],
 "metadata": {
  "kernelspec": {
   "display_name": "Python 3 (ipykernel)",
   "language": "python",
   "name": "python3"
  },
  "language_info": {
   "codemirror_mode": {
    "name": "ipython",
    "version": 3
   },
   "file_extension": ".py",
   "mimetype": "text/x-python",
   "name": "python",
   "nbconvert_exporter": "python",
   "pygments_lexer": "ipython3",
   "version": "3.9.12"
  }
 },
 "nbformat": 4,
 "nbformat_minor": 5
}
